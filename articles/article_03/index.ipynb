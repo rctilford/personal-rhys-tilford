{
  "cells": [
    {
      "cell_type": "raw",
      "metadata": {},
      "source": [
        "---\n",
        "title: Cantor Set Presentation\n",
        "author: Rhys Tilford\n",
        "description: Read my presentation of everything I have learned about the Cantor Set.\n",
        "date: 11/8/2023\n",
        "categories: [Education, Math, Topology]\n",
        "---"
      ],
      "id": "320ed7fc"
    },
    {
      "cell_type": "markdown",
      "metadata": {},
      "source": [
        "### The Definition\n",
        "\n",
        "> **11.1.10 Definition** The **Cantor set** $\\mathbb{F}$ is the intersection of the sets $F_n,n\\in\\mathbb{N}$, obtained by successive removal of open middle thirds, starting with $[0,1]$.\n",
        ">\n",
        "> -- <cite>Bartle and Sherbert (p. 331)</cite>\n",
        "\n",
        "### Visualization\n",
        "\n",
        "<script crossorigin src=\"https://unpkg.com/wolfram-notebook-embedder@0.3/dist/wolfram-notebook-embedder.min.js\"></script><div id=\"WNE-div-fbd3d6af-86fb-4c0a-a478-71092d7c0437\"></div><script>WolframNotebookEmbedder.embed(\"https://www.wolframcloud.com/obj/demonstrations/CantorSet-source.nb\",document.getElementById(\"WNE-div-fbd3d6af-86fb-4c0a-a478-71092d7c0437\"));</script>\n",
        "\n",
        "### Proving Key Properties\n",
        "\n",
        "##### Property 1: The total length of the removed intervals is 1\n",
        "\n",
        "###### Proof:\n",
        "\n",
        "\n",
        "```{LaTeX}\n",
        "a;lksdjfs\n",
        "```\n",
        "\n",
        "\n",
        "##### Property 2: The Cantor set $\\mathbb{F}$ contains no nonempty open interval as a subset\n",
        "\n",
        "###### Proof:\n",
        "\n",
        "##### Property 3: The Cantor set $\\mathbb{F}$ has infinitely (even uncountably) many points\n",
        "\n",
        "###### Proof:\n"
      ],
      "id": "2c27e8d5"
    }
  ],
  "metadata": {
    "kernelspec": {
      "display_name": "Python 3",
      "language": "python",
      "name": "python3"
    }
  },
  "nbformat": 4,
  "nbformat_minor": 5
}