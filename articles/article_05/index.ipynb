{
  "cells": [
    {
      "cell_type": "raw",
      "metadata": {},
      "source": [
        "---\n",
        "title: Google Analytics Integration\n",
        "author: Rhys Tilford\n",
        "description: Read about how I set up Google Analytics for Quarto\n",
        "date: 11/15/2023\n",
        "categories: [Data Analysis, Programming, Tutorial]\n",
        "---"
      ],
      "id": "e40fa90c"
    },
    {
      "cell_type": "markdown",
      "metadata": {},
      "source": [
        "### Introduction\n",
        "\n",
        "Operating a website is a fascinating endeavor that opens new options for sharing information with people anywhere. With the knowledge that the site is available to anyone with a web browser, it's only natural to wonder what kinds of people are viewing the site. In this tutorial I will show you how to connect a quarto website to Google Analytics 4.\n",
        "\n",
        "### Setting Up Google Analytics\n",
        "\n",
        ":::{.callout-note}\n",
        "The following webpage taught me how to set up the property.\n",
        "[How to Set Up a Google Analytics 4 Property](https://www.clickinsight.ca/blog/how-to-set-up-a-google-analytics-4-property)\n",
        ":::\n",
        "\n",
        "##### Account Setup\n",
        "\n",
        "\n",
        "\n",
        "\n",
        "##### Property Setup\n",
        "\n",
        "\n",
        "### Setting up Quarto YAML\n",
        "\n",
        "This step is likely the most straightforward of the whole process. In the `_quarto.yml` file, one merely needs to add their Google Analytics tracking ID (`UA-XXXXXXXX`) Google Tag measurement ID (`G-xxxxxxx`) as shown below.\n",
        "\n",
        "\n",
        "```{code}\n",
        "website:\n",
        "  google-analytics: \"UA-XXXXXXXX\"\n",
        "```\n",
        "\n",
        "\n",
        "After this change is deployed, It may take some time for Google Analytics to link with the site. I didn't notice any changes for about a half hour."
      ],
      "id": "114e1c09"
    }
  ],
  "metadata": {
    "kernelspec": {
      "display_name": "Python 3",
      "language": "python",
      "name": "python3"
    }
  },
  "nbformat": 4,
  "nbformat_minor": 5
}